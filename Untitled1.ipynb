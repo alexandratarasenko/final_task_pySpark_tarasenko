{
  "nbformat": 4,
  "nbformat_minor": 0,
  "metadata": {
    "colab": {
      "provenance": []
    },
    "kernelspec": {
      "name": "python3",
      "display_name": "Python 3"
    },
    "language_info": {
      "name": "python"
    }
  },
  "cells": [
    {
      "cell_type": "code",
      "execution_count": 14,
      "metadata": {
        "colab": {
          "base_uri": "https://localhost:8080/"
        },
        "id": "Iztkm0uFUKio",
        "outputId": "4d1b5e53-9115-40fc-b8af-b380da48e0fc"
      },
      "outputs": [
        {
          "output_type": "stream",
          "name": "stdout",
          "text": [
            "Top 10 active IP addreses:\n",
            "+---------------+---------+\n",
            "|             ip|req_count|\n",
            "+---------------+---------+\n",
            "| 145.24.162.146|        2|\n",
            "|  100.37.110.47|        1|\n",
            "|   20.32.75.124|        1|\n",
            "|  43.12.236.141|        1|\n",
            "| 42.175.236.159|        1|\n",
            "|     94.6.71.59|        1|\n",
            "| 180.94.109.180|        1|\n",
            "| 183.176.40.146|        1|\n",
            "|   40.218.10.25|        1|\n",
            "|175.112.188.140|        1|\n",
            "+---------------+---------+\n",
            "\n",
            "Request count by HTTP method:\n",
            "+------+------------+\n",
            "|method|method_count|\n",
            "+------+------------+\n",
            "|  POST|       25065|\n",
            "|DELETE|       25100|\n",
            "|   PUT|       24851|\n",
            "|   GET|       24984|\n",
            "+------+------------+\n",
            "\n",
            "Number of 404 response codes: 24947\n",
            "Total response size by day:\n",
            "+----------+-------------------+\n",
            "| timestamp|total_response_size|\n",
            "+----------+-------------------+\n",
            "|2024-01-01|            1935318|\n",
            "|2024-01-02|            2135349|\n",
            "|2024-01-03|            2072520|\n",
            "|2024-01-04|            1946777|\n",
            "|2024-01-05|            1836362|\n",
            "|2024-01-06|            2059674|\n",
            "|2024-01-07|            2104883|\n",
            "|2024-01-08|            1869337|\n",
            "|2024-01-09|            1786977|\n",
            "|2024-01-10|            1908158|\n",
            "|2024-01-11|            2014695|\n",
            "|2024-01-12|            2190846|\n",
            "|2024-01-13|            1872347|\n",
            "|2024-01-14|            1743800|\n",
            "|2024-01-15|            1981654|\n",
            "|2024-01-16|            1976405|\n",
            "|2024-01-17|            2098389|\n",
            "|2024-01-18|            2095038|\n",
            "|2024-01-19|            2024371|\n",
            "|2024-01-20|            2097827|\n",
            "+----------+-------------------+\n",
            "only showing top 20 rows\n",
            "\n"
          ]
        }
      ],
      "source": [
        "from pyspark.sql import SparkSession\n",
        "from pyspark.sql.functions import col, to_date, sum, count\n",
        "\n",
        "# Создание SparkSession\n",
        "spark = SparkSession.builder.appName(\"final_task\").getOrCreate()\n",
        "# Чтение данных\n",
        "web_server_logs_df = spark.read.csv(\"web_server_logs.csv\", header=True, inferSchema=True)\n",
        "\n",
        "web_server_logs_df = web_server_logs_df.withColumn(\"timestamp\", to_date(col(\"timestamp\"), \"yyyy-MM-dd\"))\n",
        "\n",
        "top_ip = web_server_logs_df.groupBy(\"ip\").count().orderBy(col(\"count\").desc()).limit(10).withColumnRenamed(\"count\", \"req_count\")\n",
        "print(\"Top 10 active IP addreses:\")\n",
        "top_ip.show()\n",
        "\n",
        "method_count = web_server_logs_df.groupBy(\"method\").count().limit(10).withColumnRenamed(\"count\", \"method_count\")\n",
        "print(\"Request count by HTTP method:\")\n",
        "method_count.show()\n",
        "\n",
        "NumberOf404 = web_server_logs_df.filter(web_server_logs_df.response_code == '404').count()\n",
        "print(\"Number of 404 response codes:\", NumberOf404)\n",
        "\n",
        "size_by_day = web_server_logs_df.groupBy(\"timestamp\").agg(sum(col(\"response_size\")).alias(\"total_response_size\")).orderBy(\"timestamp\")\n",
        "print(\"Total response size by day:\")\n",
        "size_by_day.show()\n",
        "\n",
        "spark.stop()\n"
      ]
    }
  ]
}